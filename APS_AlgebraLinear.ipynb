{
  "nbformat": 4,
  "nbformat_minor": 0,
  "metadata": {
    "colab": {
      "provenance": [],
      "toc_visible": true,
      "authorship_tag": "ABX9TyPrwW/t97qAhZT8AnHQHc2z",
      "include_colab_link": true
    },
    "kernelspec": {
      "name": "python3",
      "display_name": "Python 3"
    },
    "language_info": {
      "name": "python"
    }
  },
  "cells": [
    {
      "cell_type": "markdown",
      "metadata": {
        "id": "view-in-github",
        "colab_type": "text"
      },
      "source": [
        "<a href=\"https://colab.research.google.com/github/JayfckZ/colab/blob/main/APS_AlgebraLinear.ipynb\" target=\"_parent\"><img src=\"https://colab.research.google.com/assets/colab-badge.svg\" alt=\"Open In Colab\"/></a>"
      ]
    },
    {
      "cell_type": "markdown",
      "source": [
        "# Importações e Predefinições"
      ],
      "metadata": {
        "id": "00Muz4CufVDx"
      }
    },
    {
      "cell_type": "code",
      "source": [
        "import numpy as np    # Importando numpy para muitas das funcionalidades do código.\n",
        "\n",
        "# Criando uma função para checar se possui algum número na palavra.\n",
        "def apenasLetras(palavra):\n",
        "  for i in palavra:\n",
        "    if i.isdigit():\n",
        "      return False\n",
        "  return True\n",
        "\n",
        "# Definindo a Matriz de Criptografia\n",
        "matrizCriptografia = np.array([[1, 0, 1], [1, 1, 1], [0, 2, -1]])\n",
        "\n",
        "# Definindo a Inversa da Matriz de Criptografia\n",
        "matrizInversa = np.linalg.inv(matrizCriptografia)\n",
        "matrizInversa = matrizInversa.astype(int)\n",
        "\n",
        "#   Em Python, não temos o Switch Case, em seu lugar usamos um dicionário e\n",
        "#   verificamos a condição por meio da chave.\n",
        "conversao = {\n",
        "    \"A\": 1,\n",
        "    \"B\": 2,\n",
        "    \"C\": 3,\n",
        "    \"D\": 4,\n",
        "    \"E\": 5,\n",
        "    \"F\": 6,\n",
        "    \"G\": 7,\n",
        "    \"H\": 8,\n",
        "    \"I\": 9,\n",
        "    \"J\": 10,\n",
        "    \"K\": 11,\n",
        "    \"L\": 12,\n",
        "    \"M\": 13,\n",
        "    \"N\": 14,\n",
        "    \"O\": 15,\n",
        "    \"P\": 16,\n",
        "    \"Q\": 17,\n",
        "    \"R\": 18,\n",
        "    \"S\": 19,\n",
        "    \"T\": 20,\n",
        "    \"U\": 21,\n",
        "    \"V\": 22,\n",
        "    \"W\": 23,\n",
        "    \"X\": 24,\n",
        "    \"Y\": 25,\n",
        "    \"Z\": 26,\n",
        "    \" \": 0\n",
        "}\n",
        "\n",
        "desconversao = list(conversao.keys())\n"
      ],
      "metadata": {
        "id": "5z92yAWkfc2A"
      },
      "execution_count": 1,
      "outputs": []
    },
    {
      "cell_type": "markdown",
      "source": [
        "# Módulo 1: Criptografia"
      ],
      "metadata": {
        "id": "Q4r2A7xGaEqi"
      }
    },
    {
      "cell_type": "code",
      "source": [
        "from time import sleep\n",
        "\n",
        "print(\"=\"*49)\n",
        "\n",
        "# Loop para garantir que o programa continue em caso de eventuais erros.\n",
        "while True:\n",
        "  palavra = input(\"Digite uma palavra de 6 dígitos: \").upper()    # Recebe a entrada do usuário.\n",
        "  check = apenasLetras(palavra)     # Verifica se contém apenas letras e/ou espaços na palavra.\n",
        "\n",
        "  # 1º Verificação: Se está tudo ok para prosseguir.\n",
        "  if (len(palavra) == 6) & (check):\n",
        "    # Cria a matriz e adiciona os caracteres da palavra em suas respectivas posições.\n",
        "    matriz = np.array([[palavra[0], palavra[3]], [palavra[1], palavra[4]], [palavra[2], palavra[5]]])\n",
        "\n",
        "    # Cria uma nova matriz de inteiro e faz a conversão dos caracteres para números.\n",
        "    matrizConvertida = np.zeros((3, 2), dtype=\"int\")\n",
        "    c = 0\n",
        "    for i in range(2):\n",
        "      for j in range(3):\n",
        "        matrizConvertida[j][i] = conversao[palavra[c]]   # Troca a letra pelo número correspondente\n",
        "        c += 1\n",
        "\n",
        "    # Multiplica a Matriz de Criptografia com a Matriz Convertida\n",
        "    matrizCriptografada = matrizCriptografia @ matrizConvertida\n",
        "\n",
        "    # Imprime a Matriz Criptografada e finaliza o\n",
        "    print(\"\\nCodificando...\\n\")\n",
        "    sleep(1)\n",
        "    print(\"Matriz Criptografada: \")\n",
        "    for i in range(3):\n",
        "      print(matrizCriptografada[i])\n",
        "    print(\"Execute o \\033[1mMódulo 2: Descriptografia\\033[0;0m para descriptografar a mensagem.\")\n",
        "\n",
        "    break\n",
        "\n",
        "  # 2º Verificação: Uso de números na palavra.\n",
        "  elif (not check):\n",
        "    print(\"\\n\\033[31mUse apenas letras e espaços.\\033[0;0m\\n\")\n",
        "    sleep(0.5)\n",
        "\n",
        "  # 3º Verificação: Possui menos ou mais de 6 caracteres.\n",
        "  elif (len(palavra) != 6):\n",
        "    print(\"\\n\\033[33mA palavra deve conter 6 caracteres.\\033[0;0m\\n\")\n",
        "    sleep(0.5)\n",
        "\n",
        "print(\"=\"*49)\n"
      ],
      "metadata": {
        "id": "b6iMO_E7eGmQ"
      },
      "execution_count": null,
      "outputs": []
    },
    {
      "cell_type": "markdown",
      "source": [
        "# Módulo 2: Descriptografia"
      ],
      "metadata": {
        "id": "p0IjsDORabWa"
      }
    },
    {
      "cell_type": "code",
      "source": [
        "print(\"=\"*49)\n",
        "\n",
        "# Verifica se a Matriz Criptografada existe.\n",
        "if ('matrizCriptografada' in globals()):\n",
        "  # Multiplica a Inversa pela Criptografada para gerar a Matriz Convertida novamente.\n",
        "  matrizDescriptografada = matrizInversa @ matrizCriptografada\n",
        "\n",
        "  # Cria a Matriz Desconvertida para receber as letras da palavra.\n",
        "  matrizDesconvertida = np.zeros((3, 2), dtype=\"str\")\n",
        "  for i in range(2):\n",
        "    for j in range(3):\n",
        "      matrizDesconvertida[j][i] = desconversao[matrizDescriptografada[j][i] - 1]\n",
        "\n",
        "  # Faz a conversão de matriz para string\n",
        "  palavraRevelada = \"\"\n",
        "  for i in range(2):\n",
        "    for j in range(3):\n",
        "      palavraRevelada += \"\".join(matrizDesconvertida[j][i])\n",
        "\n",
        "  print(f\"A palavra descriptografada é: {palavraRevelada.capitalize()}\")\n",
        "\n",
        "# Caso a Matriz não exista, este módulo é encerrado.\n",
        "else:\n",
        "  print(\"Nenhuma palavra foi criptografada ainda.\")\n",
        "\n",
        "print(\"=\"*49)\n"
      ],
      "metadata": {
        "id": "lWIYBgvObzLU"
      },
      "execution_count": null,
      "outputs": []
    },
    {
      "cell_type": "markdown",
      "source": [
        "# Módulo 3: Melhorias de Segurança"
      ],
      "metadata": {
        "id": "3bHXW4VMddSi"
      }
    },
    {
      "cell_type": "markdown",
      "source": [
        "Inserir aqui melhoria"
      ],
      "metadata": {
        "id": "EW8hArmxd6j8"
      }
    }
  ]
}